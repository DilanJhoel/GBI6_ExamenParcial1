{
 "cells": [
  {
   "cell_type": "markdown",
   "metadata": {},
   "source": [
    "<img src=\"https://www.ikiam.edu.ec/img/logo-ikiam-grey.png\" width=300 height=240 />\n",
    "\n",
    "# EXAMEN PARCIAL 1\n",
    "\n",
    "## GBI6-2021II: BIOINFORMÁTICA\n",
    "\n",
    "**Porras Quinaucho, Dilan Jhoel**\n",
    "\n",
    "**12-01-2022**"
   ]
  },
  {
   "cell_type": "markdown",
   "metadata": {},
   "source": [
    "<font color='red'>NO AGREGUE NUEVAS CELDAS, UTILICE ÚNICAMENTE LAS QUE ESTÁN CREADAS</font>"
   ]
  },
  {
   "attachments": {},
   "cell_type": "markdown",
   "metadata": {},
   "source": [
    "# 1. UNIX\n",
    "\n",
    "## Ejercicio 1\n",
    "Seleccione la opción de código que imprime el directorio de trabajo actual\n",
    "\n",
    "<img src=\"data/Pregunta1.jpg\" width=1000 height=800 />\n",
    "\n",
    "## Ejercicio 2\n",
    "1) Imprimir el directorio de trabajo actual<br>\n",
    "2) Crear un directorio test1<br>\n",
    "3) No cambie de directorio, pero los items 4, 5 y 6 deben guardarse en el directorio creado en el paso 2<br>\n",
    "4) Crear el archivo test1.txt<br>\n",
    "5) Guardar el texto Hola GBI6 en un archivo test2.txt<br>\n",
    "6) Guardar la instrucción print (\"Hola GBI6\")  en el archivo test1.py<br>\n",
    "7) Luego seleccione la instrucción que permite enlistar el contenido (incluyendo detalles) del directorio test1<br>\n",
    "\n",
    "<img src=\"data/Pregunta2.jpg\" width=1000 height=800 />\n",
    "\n",
    "__\"pwd\"__ imprime el directorio actual. __\"mkdir\"__ crea el directorio **test1**. __\"touch\"__ crea el archivo **test1.txt**. __\"echo\"__ crea el contenido y con __\">\"__ se asigna al archivo **test2.txt**. __\"nano\"__ crea el contenido del archivo **test1.py**, si el archivo no esta creado lo crea. __\"ls -l\"__ enlista y detalla el directorio **test1**, __\"ls -lh\"__ cumple la misma función pero con formato más legible. __\"./\"__ mueve al directorio actual.\n",
    "\n",
    "<img src=\"data/Pregunta2_1.jpg\" width=1000 height=800 />\n",
    "\n",
    "Interior del comando __\"nano\"__, donde se escribe el contenido de **test1.py**.\n",
    "\n",
    "## Ejercicio 3\n",
    "1) Imprimir el directorio de trabajo actual<br> \n",
    "2) Crear un directorio test1<br>\n",
    "3) No cambie de directorio, pero los items 4, 5 y 6 deben guardarse en el directorio creado en el paso 2<br>\n",
    "4) Crear el archivo test1.txt<br>\n",
    "5) Guardar el texto Hola GBI6 en un archivo test2.txt<br>\n",
    "6) Guardar la instrucción print (\"Hola GBI6\")  en el archivo test1.py<br>\n",
    "7) Luego seleccione la instrucción que enlista los archivos del directorio test1 y luego imprima el contenido de test2.txt<br>\n",
    "\n",
    "<img src=\"data/Pregunta3.jpg\" width=1000 height=800 />\n",
    "\n",
    "Se repite la mayoria de comandos del ejercicio anterior a excepción del literal **7)**. Las indicaciones de este literal se ejecutan con: __\"ls\"__ enlista los archivos del directorio **test1** y __\"cat\"__ imprime el contenido del archivo **test2.txt**.\n",
    "\n",
    "## Ejercicio 4\n",
    "Resuelva el ejercicio 1.10.4 Data Explorer.<br> \n",
    "Resuelva el ejercicio en un documento de nombre ejercicio_1104.sh<br>\n",
    "Cargue el documento ejercicio_1104.sh en GitHub utilizando git push.<br> \n",
    "Realice el video explicativo de la resolución ejercicio y guarde en YouTube en formato \"Público\" o \"Unlisted\", y pegue el enlace en el cuaderno de Jupyter."
   ]
  },
  {
   "cell_type": "code",
   "execution_count": 8,
   "metadata": {},
   "outputs": [
    {
     "data": {
      "text/html": [
       "<iframe width=\"950\" height=\"500\" src=\"https://www.youtube.com/embed/2bnMxw83VrA\" title=\"YouTube video player\" frameborder=\"0\" allow=\"accelerometer; autoplay; clipboard-write; encrypted-media; gyroscope; picture-in-picture\" allowfullscreen></iframe>"
      ],
      "text/plain": [
       "<IPython.core.display.HTML object>"
      ]
     },
     "execution_count": 8,
     "metadata": {},
     "output_type": "execute_result"
    }
   ],
   "source": [
    "# Coloque aquí su video del ejercicio 4\n",
    "from IPython.display import HTML\n",
    "HTML('<iframe width=\"950\" height=\"500\" src=\"https://www.youtube.com/embed/2bnMxw83VrA\" title=\"YouTube video player\" frameborder=\"0\" allow=\"accelerometer; autoplay; clipboard-write; encrypted-media; gyroscope; picture-in-picture\" allowfullscreen></iframe>')"
   ]
  },
  {
   "cell_type": "markdown",
   "metadata": {},
   "source": [
    "Comandos usados en el ejercicio: __\"echo\"__ imprime entre comillas lo que se escribe en la misma línea. __\"cut\"__ puede seleccionar una columna dada de un csv, con __\"-d\"__ delimita que la columna se encuentra entre comas (,), con __\"-f\"__ se indica que columna se quiere seleccionar. __\"$\"__ indica la posición de la variable en el comando bash. __\"|\"__ conduce la salida de un comando a la entrada de otro comando. __\"head\"__ extrae el encabezado (10 primeras lineas) del archivo y con __\"-n\"__ se indica que fila de la columna se escoge. __\"tail\"__ extrae las ultimas filas de la columna y con __\"-n\"__ junto a __\"+2\"__ eliminan las 2 primeras filas de la columna. __\"sort\"__ ordena los datos. __\"uniq\"__ extrae datos únicos no separados. __\"wc -l\"__ cuenta las líneas (filas) de la columna.  __\"sort -n\"__ ordena númericamente los datos. __\"head -n 1\"__ y __\"tail -n 1\"__ extraen la primea fila y la ultima fila, respectivamente, de la columna.\n",
    "\n",
    "## Ejercicio 5\n",
    "Resuelva el ejercicio 1.10.2 Hormone Levels in Baboons.<br> \n",
    "Resuelva el ejercicio en un documento de nombre ejercicio_1102.sh<br>\n",
    "Cargue el documento ejercicio_1102.sh en GitHub utilizando git push.<br> \n",
    "Realice el video explicativo de la resolución ejercicio y guarde en YouTube en formato \"Público\" o \"Unlisted\", y pegue el enlace en el cuaderno de Jupyter."
   ]
  },
  {
   "cell_type": "code",
   "execution_count": 1,
   "metadata": {},
   "outputs": [
    {
     "name": "stderr",
     "output_type": "stream",
     "text": [
      "C:\\ProgramData\\Anaconda3\\lib\\site-packages\\IPython\\core\\display.py:717: UserWarning: Consider using IPython.display.IFrame instead\n",
      "  warnings.warn(\"Consider using IPython.display.IFrame instead\")\n"
     ]
    },
    {
     "data": {
      "text/html": [
       "<iframe width=\"950\" height=\"500\" src=\"https://www.youtube.com/embed/HgpRrCxp8Vo\" title=\"YouTube video player\" frameborder=\"0\" allow=\"accelerometer; autoplay; clipboard-write; encrypted-media; gyroscope; picture-in-picture\" allowfullscreen></iframe>"
      ],
      "text/plain": [
       "<IPython.core.display.HTML object>"
      ]
     },
     "execution_count": 1,
     "metadata": {},
     "output_type": "execute_result"
    }
   ],
   "source": [
    "# Coloque aquí su video del ejercicio 5\n",
    "from IPython.display import HTML\n",
    "HTML('<iframe width=\"950\" height=\"500\" src=\"https://www.youtube.com/embed/HgpRrCxp8Vo\" title=\"YouTube video player\" frameborder=\"0\" allow=\"accelerometer; autoplay; clipboard-write; encrypted-media; gyroscope; picture-in-picture\" allowfullscreen></iframe>')"
   ]
  },
  {
   "cell_type": "markdown",
   "metadata": {},
   "source": [
    "Comandos usados en el ejercicio: __\"echo\"__ imprime entre comillas lo que se escribe en la misma línea. __\"cut\"__ puede seleccionar una columna dada de un csv con __\"-f\"__ se indica que columna se quiere seleccionar. __\"=\"__ se designa una variable y lo que va ejecutar o contener, con **acento grave** se indica que se ejecute el comando dentro de la variable y se ejecute al correrlo. __\"grep\"__ busca el dato y da el resultado, con __\"-c\"__ cuenta el número de veces de un dato y con __\"-w\"__ busca datos con similitud exacta. __\"$\"__ indica la posición de la variable en el comando bash. __\"|\"__ conduce la salida de un comando a la entrada de otro comando. __\"head\"__ extrae el encabezado (10 primeras lineas) del archivo y con __\"-n\"__ se indica que fila de la columna se escoge. __\"tail\"__ extrae las ultimas filas de la columna y con __\"-n\"__ junto a __\"+2\"__ eliminan las 2 primeras filas de la columna. __\"sort\"__ ordena los datos. __\"uniq\"__ extrae datos únicos no separados. __\"wc -l\"__ cuenta las líneas (filas) de la columna.  __\"sort -n\"__ ordena númericamente los datos."
   ]
  },
  {
   "cell_type": "markdown",
   "metadata": {
    "jp-MarkdownHeadingCollapsed": true,
    "tags": []
   },
   "source": [
    "# 2. CONTROL DE LA VERSIÓN\n",
    "## Pregunta 6\n",
    "1. Cree en GitHub un repositorio de nombre ```GBI6_ExamenParcial1```. \n",
    "2. Cree un archivo ```Readme.md``` que debe tener lo siguiente: \n",
    "- Datos personales\n",
    "- Características del computador\n",
    "- Programas utilizados\n",
    "- Explicación de la data utilizada\n",
    "\n",
    "\n",
    "## Pregunta 7\n",
    "1. Cada vez que resuelva un ejercicio (del 1 al 10), utilizando Git Bash, GitHub Desktop o Atom realice un *git push* con el mensaje: \n",
    "\n",
    "\n",
    "<font color='red'>Apellido Nombre ha resuelto el ejercicio 1</font> % Cambie con sus apellidos y nombres; y con el número de ejercicio que corresponda \n",
    "\n",
    "2. Coloque aquí las capturas de pantalla para cada git push realizado desde Git Bash, GitHub Desktop o Atom. \n",
    "\n",
    "- Control de versión ejercicio 1\n",
    "\n",
    "<img src=\"data/Pregunta1_CV.jpg\" width=1000 height=800 />\n",
    "\n",
    "- Control de versión ejercicio 2\n",
    "\n",
    "<img src=\"data/Pregunta2_CV.jpg\" width=1000 height=800 />\n",
    "\n",
    "- Control de versión ejercicio 3\n",
    "\n",
    "<img src=\"data/Pregunta3_CV.jpg\" width=1000 height=800 />\n",
    "\n",
    "- Control de versión ejercicio 4\n",
    "\n",
    "<img src=\"data/Pregunta4_CV.jpg\" width=1000 height=800 />\n",
    "\n",
    "- Control de versión ejercicio 5\n",
    "\n",
    "<img src=\"data/Pregunta5_CV.jpg\" width=600 height=800 />\n",
    "\n",
    "- Control de versión ejercicio 8\n",
    "\n",
    "<img src=\"data/Pregunta8_CV.jpg\" width=1000 height=800 />\n",
    "\n",
    "- Control de versión ejercicio 9\n",
    "\n",
    "<img src=\"data/Pregunta9_CV.jpg\" width=1000 height=800 />\n",
    "\n",
    "- Control de versión ejercicio 10\n",
    "\n",
    "<img src=\"data/Pregunta10_CV.jpg\" width=1000 height=800 />\n",
    "\n",
    "\n",
    "3. Cree un directorio de nombre ```data``` donde deben estar guardados: (i) la data utilizada y (ii) las capturas de pantalla de los ejercicios 1 al 3 y los git push del ejercicio 1 al 10 (en total debe tener 13 imágenes). \n",
    "4. Inserte aquí el enlace de su repositorio (válido para el ejercicio 6 y 7): [GitHub Repository: GBI6_ExamenParcial1](https://github.com/DilanJhoel/GBI6_ExamenParcial1.git)"
   ]
  },
  {
   "cell_type": "code",
   "execution_count": null,
   "metadata": {},
   "outputs": [],
   "source": [
    "# 3. INTRODUCCIÓN A PYTHON\n",
    "\n",
    "## Ejercicio 8\n",
    "Crear una lista de nombre lista1 que tenga a las 10 primeras letras del alfabeto."
   ]
  },
  {
   "cell_type": "code",
   "execution_count": 78,
   "metadata": {},
   "outputs": [
    {
     "data": {
      "text/plain": [
       "'d'"
      ]
     },
     "execution_count": 78,
     "metadata": {},
     "output_type": "execute_result"
    }
   ],
   "source": [
    "lista1 = ['a','b','c','d','e','f','g','h','i','j']\n",
    "lista1.append([\"gbi6\", \"bio1\", \"ikiam\"])\n",
    "lista1[-1][-1] #'ikiam'\n",
    "lista1[2:5] #['c', 'd', 'e']\n",
    "\n",
    "lista1 = ['a','b','c','d','e','f','g','h','i','j']\n",
    "lista1.append([\"gbi6\", \"bio1\", \"ikiam\"])\n",
    "len(lista1) #11\n",
    "lista1[3]"
   ]
  },
  {
   "cell_type": "markdown",
   "metadata": {},
   "source": [
    "## Ejercicio 9\n",
    "En la data https://github.com/sap0408/mtcars/blob/master/mtcars.csv, seleccione los 10 primeros registros y cree una lista de nombre lista1."
   ]
  },
  {
   "cell_type": "code",
   "execution_count": 76,
   "metadata": {},
   "outputs": [
    {
     "data": {
      "text/plain": [
       "11"
      ]
     },
     "execution_count": 76,
     "metadata": {},
     "output_type": "execute_result"
    }
   ],
   "source": [
    "lista1 = ['Mazda RX4','Mazda RX4 Wag','Datsun 710','Hornet 4 Drive','Hornet Sportabout','Valiant','Duster 360','Merc 240D','Merc 230', 'Merc 280']\n",
    "lista1[2:5] #['Datsun 710', 'Hornet 4 Drive', 'Hornet Sportabout']\n",
    "lista1[4] #'Hornet Sportabout'\n",
    "lista1[3] #'Hornet 4 Drive'\n",
    "lista1.append([\"gbi6\", \"bio1\", \"ikiam\"])\n",
    "lista1[-1][-3] #'gbi6'\n",
    "\n",
    "lista1 = ['Mazda RX4','Mazda RX4 Wag','Datsun 710','Hornet 4 Drive','Hornet Sportabout','Valiant','Duster 360','Merc 240D','Merc 230', 'Merc 280']\n",
    "lista1.append([\"gbi6\", \"bio1\", \"ikiam\"])\n",
    "len(lista1) "
   ]
  },
  {
   "cell_type": "markdown",
   "metadata": {},
   "source": [
    "## Ejercicio 10\n",
    "1. Crear un diccionario de nombre dic_aminoacidos, donde se tenga la información de la tabla que se encuentra en http://www.russelllab.org/aas/aas.html. \n",
    "2. Utilice como \"key\" los valores de la columna \"AA\" y las columnas \"Hits\" y \"%Abundance\" como \"values\". \n",
    "3. Luego de crear el diccionario, extraiga los valores de \"key\" a una lista de nombre \"aminoacidos\"\n",
    "4. Extraiga los valores de \"value\" a una lista de nombre \"propiedades\""
   ]
  },
  {
   "cell_type": "code",
   "execution_count": 166,
   "metadata": {},
   "outputs": [
    {
     "name": "stdout",
     "output_type": "stream",
     "text": [
      "aminoacidos : dict_keys(['Trp', 'Cys', 'His', 'Arg', 'Met', 'Tyr', 'Gln', 'Phe', 'Asp', 'Pro', 'Ala', 'Asn', 'Lys', 'Glu', 'Gly', 'Thr', 'Val', 'Ile', 'Ser', 'Leu'])\n"
     ]
    }
   ],
   "source": [
    "dic_aminoacidos = {\"Trp\":{\"1550\",\"1.34\"},\"Cys\":{\"1905\",\"1.76\"},\"His\":{\"1695\",\"2.26\"},\"Arg\":{\"3039\",\"5.20\"},\n",
    "                 \"Met\":{\"1102\",\"2.32\"},\"Tyr\":{\"1525\",\"3.25\"},\"Gln\":{\"1830\",\"3.96\"},\"Phe\":{\"1616\",\"4.12\"},\n",
    "                 \"Asp\":{\"1691\",\"5.12\"},\"Pro\":{\"1598\",\"5.00\"},\"Ala\":{\"2018\",\"7.34\"},\"Asn\":{\"1103\",\"4.57\"},\n",
    "                 \"Lys\":{\"1366\",\"5.81\"},\"Glu\":{\"1471\",\"6.22\"},\"Gly\":{\"1386\",\"6.89\"},\"Thr\":{\"1147\",\"5.85\"},\n",
    "                 \"Val\":{\"1225\",\"6.48\"},\"Ile\":{\"1033\",\"5.76\"},\"Ser\":{\"1206\",\"7.38\"},\"Leu\":{\"1127\",\"9.36\"}}\n",
    "print(\"aminoacidos : \" +  str(dic_aminoacidos.keys()))"
   ]
  },
  {
   "cell_type": "code",
   "execution_count": 167,
   "metadata": {},
   "outputs": [
    {
     "name": "stdout",
     "output_type": "stream",
     "text": [
      "propiedades : dict_values([{'1.34', '1550'}, {'1.76', '1905'}, {'1695', '2.26'}, {'3039', '5.20'}, {'2.32', '1102'}, {'3.25', '1525'}, {'3.96', '1830'}, {'1616', '4.12'}, {'1691', '5.12'}, {'5.00', '1598'}, {'7.34', '2018'}, {'4.57', '1103'}, {'1366', '5.81'}, {'1471', '6.22'}, {'1386', '6.89'}, {'5.85', '1147'}, {'6.48', '1225'}, {'5.76', '1033'}, {'1206', '7.38'}, {'9.36', '1127'}])\n"
     ]
    }
   ],
   "source": [
    "dic_aminoacidos = {\"Trp\":{\"1550\",\"1.34\"},\"Cys\":{\"1905\",\"1.76\"},\"His\":{\"1695\",\"2.26\"},\"Arg\":{\"3039\",\"5.20\"},\n",
    "                 \"Met\":{\"1102\",\"2.32\"},\"Tyr\":{\"1525\",\"3.25\"},\"Gln\":{\"1830\",\"3.96\"},\"Phe\":{\"1616\",\"4.12\"},\n",
    "                 \"Asp\":{\"1691\",\"5.12\"},\"Pro\":{\"1598\",\"5.00\"},\"Ala\":{\"2018\",\"7.34\"},\"Asn\":{\"1103\",\"4.57\"},\n",
    "                 \"Lys\":{\"1366\",\"5.81\"},\"Glu\":{\"1471\",\"6.22\"},\"Gly\":{\"1386\",\"6.89\"},\"Thr\":{\"1147\",\"5.85\"},\n",
    "                 \"Val\":{\"1225\",\"6.48\"},\"Ile\":{\"1033\",\"5.76\"},\"Ser\":{\"1206\",\"7.38\"},\"Leu\":{\"1127\",\"9.36\"}}\n",
    "print(\"propiedades : \" +  str(dic_aminoacidos.values()))"
   ]
  }
 ],
 "metadata": {
  "kernelspec": {
   "display_name": "Python 3",
   "language": "python",
   "name": "python3"
  },
  "language_info": {
   "codemirror_mode": {
    "name": "ipython",
    "version": 3
   },
   "file_extension": ".py",
   "mimetype": "text/x-python",
   "name": "python",
   "nbconvert_exporter": "python",
   "pygments_lexer": "ipython3",
   "version": "3.8.8"
  },
  "latex_envs": {
   "LaTeX_envs_menu_present": true,
   "autoclose": false,
   "autocomplete": true,
   "bibliofile": "biblio.bib",
   "cite_by": "apalike",
   "current_citInitial": 1,
   "eqLabelWithNumbers": true,
   "eqNumInitial": 1,
   "hotkeys": {
    "equation": "Ctrl-E",
    "itemize": "Ctrl-I"
   },
   "labels_anchors": false,
   "latex_user_defs": false,
   "report_style_numbering": false,
   "user_envs_cfg": false
  },
  "toc": {
   "base_numbering": 1,
   "nav_menu": {},
   "number_sections": true,
   "sideBar": false,
   "skip_h1_title": false,
   "title_cell": "Table of Contents",
   "title_sidebar": "Contents",
   "toc_cell": false,
   "toc_position": {
    "height": "1152.67px",
    "left": "41px",
    "top": "110px",
    "width": "253.458px"
   },
   "toc_section_display": true,
   "toc_window_display": false
  },
  "varInspector": {
   "cols": {
    "lenName": 16,
    "lenType": 16,
    "lenVar": 40
   },
   "kernels_config": {
    "python": {
     "delete_cmd_postfix": "",
     "delete_cmd_prefix": "del ",
     "library": "var_list.py",
     "varRefreshCmd": "print(var_dic_list())"
    },
    "r": {
     "delete_cmd_postfix": ") ",
     "delete_cmd_prefix": "rm(",
     "library": "var_list.r",
     "varRefreshCmd": "cat(var_dic_list()) "
    }
   },
   "types_to_exclude": [
    "module",
    "function",
    "builtin_function_or_method",
    "instance",
    "_Feature"
   ],
   "window_display": false
  }
 },
 "nbformat": 4,
 "nbformat_minor": 4
}
