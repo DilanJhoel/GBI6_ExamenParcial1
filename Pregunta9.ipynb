{
 "cells": [
  {
   "cell_type": "markdown",
   "id": "77d77aec",
   "metadata": {},
   "source": [
    "### Seleccionar los 10 primeros registros y cree una lista de nombre lista1 de la data: https://github.com/sap0408/mtcars/blob/master/mtcars.csv."
   ]
  },
  {
   "cell_type": "code",
   "execution_count": 2,
   "id": "33b02908-cc53-4a8a-be3d-f7899852dea9",
   "metadata": {},
   "outputs": [
    {
     "data": {
      "text/plain": [
       "['Datsun 710', 'Hornet 4 Drive', 'Hornet Sportabout']"
      ]
     },
     "execution_count": 2,
     "metadata": {},
     "output_type": "execute_result"
    }
   ],
   "source": [
    "lista1 = ['Mazda RX4','Mazda RX4 Wag','Datsun 710','Hornet 4 Drive','Hornet Sportabout','Valiant','Duster 360','Merc 240D','Merc 230', 'Merc 280']\n",
    "lista1[2:5] "
   ]
  },
  {
   "cell_type": "code",
   "execution_count": 11,
   "id": "702ce529-4ec6-4472-ac4b-e834b6782271",
   "metadata": {},
   "outputs": [
    {
     "data": {
      "text/plain": [
       "'Hornet Sportabout'"
      ]
     },
     "execution_count": 11,
     "metadata": {},
     "output_type": "execute_result"
    }
   ],
   "source": [
    "lista1 = ['Mazda RX4','Mazda RX4 Wag','Datsun 710','Hornet 4 Drive','Hornet Sportabout','Valiant','Duster 360','Merc 240D','Merc 230', 'Merc 280']\n",
    "lista1[4] "
   ]
  },
  {
   "cell_type": "code",
   "execution_count": 10,
   "id": "4072b139-0149-4475-9674-1ff7cf4119cd",
   "metadata": {},
   "outputs": [
    {
     "data": {
      "text/plain": [
       "'Hornet 4 Drive'"
      ]
     },
     "execution_count": 10,
     "metadata": {},
     "output_type": "execute_result"
    }
   ],
   "source": [
    "lista1 = ['Mazda RX4','Mazda RX4 Wag','Datsun 710','Hornet 4 Drive','Hornet Sportabout','Valiant','Duster 360','Merc 240D','Merc 230', 'Merc 280']\n",
    "lista1[3] "
   ]
  },
  {
   "cell_type": "code",
   "execution_count": 12,
   "id": "6cd02f3f-ed49-4d25-8a5c-58be482cf405",
   "metadata": {},
   "outputs": [
    {
     "data": {
      "text/plain": [
       "'gbi6'"
      ]
     },
     "execution_count": 12,
     "metadata": {},
     "output_type": "execute_result"
    }
   ],
   "source": [
    "lista1 = ['Mazda RX4','Mazda RX4 Wag','Datsun 710','Hornet 4 Drive','Hornet Sportabout','Valiant','Duster 360','Merc 240D','Merc 230', 'Merc 280']\n",
    "lista1.append([\"gbi6\", \"bio1\", \"ikiam\"])\n",
    "lista1[-1][-3]"
   ]
  },
  {
   "cell_type": "code",
   "execution_count": 13,
   "id": "29ec309b-7f9d-4cce-a96f-e5d006416d27",
   "metadata": {},
   "outputs": [
    {
     "data": {
      "text/plain": [
       "11"
      ]
     },
     "execution_count": 13,
     "metadata": {},
     "output_type": "execute_result"
    }
   ],
   "source": [
    "lista1 = ['Mazda RX4','Mazda RX4 Wag','Datsun 710','Hornet 4 Drive','Hornet Sportabout','Valiant','Duster 360','Merc 240D','Merc 230', 'Merc 280']\n",
    "lista1.append([\"gbi6\", \"bio1\", \"ikiam\"])\n",
    "len(lista1)"
   ]
  }
 ],
 "metadata": {
  "kernelspec": {
   "display_name": "Python 3",
   "language": "python",
   "name": "python3"
  },
  "language_info": {
   "codemirror_mode": {
    "name": "ipython",
    "version": 3
   },
   "file_extension": ".py",
   "mimetype": "text/x-python",
   "name": "python",
   "nbconvert_exporter": "python",
   "pygments_lexer": "ipython3",
   "version": "3.8.8"
  }
 },
 "nbformat": 4,
 "nbformat_minor": 5
}
