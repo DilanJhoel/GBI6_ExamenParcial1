{
 "cells": [
  {
   "cell_type": "markdown",
   "id": "fe2d8dff-0c98-4fd3-b5db-1e8727e8a244",
   "metadata": {},
   "source": [
    "### Indicaciones:\n",
    "1. Crear un diccionario de nombre dic_aminoacidos, donde se tenga la información de la tabla que se encuentra en http://www.russelllab.org/aas/aas.html. \n",
    "2. Utilice como \"key\" los valores de la columna \"AA\" y las columnas \"Hits\" y \"%Abundance\" como \"values\". \n",
    "3. Luego de crear el diccionario, extraiga los valores de \"key\" a una lista de nombre \"aminoacidos\"\n",
    "4. Extraiga los valores de \"value\" a una lista de nombre \"propiedades\""
   ]
  },
  {
   "cell_type": "code",
   "execution_count": 1,
   "id": "0e9d8509-7e96-4564-93f2-782870e04be0",
   "metadata": {},
   "outputs": [
    {
     "name": "stdout",
     "output_type": "stream",
     "text": [
      "aminoacidos : dict_keys(['Trp', 'Cys', 'His', 'Arg', 'Met', 'Tyr', 'Gln', 'Phe', 'Asp', 'Pro', 'Ala', 'Asn', 'Lys', 'Glu', 'Gly', 'Thr', 'Val', 'Ile', 'Ser', 'Leu'])\n"
     ]
    }
   ],
   "source": [
    "dic_aminoacidos = {\"Trp\":{\"1550\",\"1.34\"},\"Cys\":{\"1905\",\"1.76\"},\"His\":{\"1695\",\"2.26\"},\"Arg\":{\"3039\",\"5.20\"},\n",
    "                 \"Met\":{\"1102\",\"2.32\"},\"Tyr\":{\"1525\",\"3.25\"},\"Gln\":{\"1830\",\"3.96\"},\"Phe\":{\"1616\",\"4.12\"},\n",
    "                 \"Asp\":{\"1691\",\"5.12\"},\"Pro\":{\"1598\",\"5.00\"},\"Ala\":{\"2018\",\"7.34\"},\"Asn\":{\"1103\",\"4.57\"},\n",
    "                 \"Lys\":{\"1366\",\"5.81\"},\"Glu\":{\"1471\",\"6.22\"},\"Gly\":{\"1386\",\"6.89\"},\"Thr\":{\"1147\",\"5.85\"},\n",
    "                 \"Val\":{\"1225\",\"6.48\"},\"Ile\":{\"1033\",\"5.76\"},\"Ser\":{\"1206\",\"7.38\"},\"Leu\":{\"1127\",\"9.36\"}}\n",
    "print(\"aminoacidos : \" +  str(dic_aminoacidos.keys()))"
   ]
  },
  {
   "cell_type": "code",
   "execution_count": 2,
   "id": "330ab22c-6864-4801-8258-f54ab949a1bf",
   "metadata": {},
   "outputs": [
    {
     "name": "stdout",
     "output_type": "stream",
     "text": [
      "propiedades : dict_values([{'1.34', '1550'}, {'1.76', '1905'}, {'1695', '2.26'}, {'3039', '5.20'}, {'2.32', '1102'}, {'3.25', '1525'}, {'3.96', '1830'}, {'1616', '4.12'}, {'1691', '5.12'}, {'1598', '5.00'}, {'7.34', '2018'}, {'1103', '4.57'}, {'1366', '5.81'}, {'1471', '6.22'}, {'6.89', '1386'}, {'5.85', '1147'}, {'1225', '6.48'}, {'5.76', '1033'}, {'7.38', '1206'}, {'1127', '9.36'}])\n"
     ]
    }
   ],
   "source": [
    "dic_aminoacidos = {\"Trp\":{\"1550\",\"1.34\"},\"Cys\":{\"1905\",\"1.76\"},\"His\":{\"1695\",\"2.26\"},\"Arg\":{\"3039\",\"5.20\"},\n",
    "                 \"Met\":{\"1102\",\"2.32\"},\"Tyr\":{\"1525\",\"3.25\"},\"Gln\":{\"1830\",\"3.96\"},\"Phe\":{\"1616\",\"4.12\"},\n",
    "                 \"Asp\":{\"1691\",\"5.12\"},\"Pro\":{\"1598\",\"5.00\"},\"Ala\":{\"2018\",\"7.34\"},\"Asn\":{\"1103\",\"4.57\"},\n",
    "                 \"Lys\":{\"1366\",\"5.81\"},\"Glu\":{\"1471\",\"6.22\"},\"Gly\":{\"1386\",\"6.89\"},\"Thr\":{\"1147\",\"5.85\"},\n",
    "                 \"Val\":{\"1225\",\"6.48\"},\"Ile\":{\"1033\",\"5.76\"},\"Ser\":{\"1206\",\"7.38\"},\"Leu\":{\"1127\",\"9.36\"}}\n",
    "print(\"propiedades : \" +  str(dic_aminoacidos.values()))"
   ]
  },
  {
   "cell_type": "code",
   "execution_count": null,
   "id": "d04e6c91-c9e8-4d45-9ff8-dc2490650897",
   "metadata": {},
   "outputs": [],
   "source": []
  }
 ],
 "metadata": {
  "kernelspec": {
   "display_name": "Python 3",
   "language": "python",
   "name": "python3"
  },
  "language_info": {
   "codemirror_mode": {
    "name": "ipython",
    "version": 3
   },
   "file_extension": ".py",
   "mimetype": "text/x-python",
   "name": "python",
   "nbconvert_exporter": "python",
   "pygments_lexer": "ipython3",
   "version": "3.8.8"
  }
 },
 "nbformat": 4,
 "nbformat_minor": 5
}
